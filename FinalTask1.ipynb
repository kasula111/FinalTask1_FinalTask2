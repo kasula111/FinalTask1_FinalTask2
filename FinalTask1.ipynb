{
 "cells": [
  {
   "cell_type": "markdown",
   "id": "85f0256c-8190-4eb5-bf34-3116fab52935",
   "metadata": {},
   "source": [
    "# Filename: FinalTask1"
   ]
  },
  {
   "cell_type": "markdown",
   "id": "78bb1b17-3088-4e94-a4a0-c8d9a44f3ef5",
   "metadata": {},
   "source": [
    "Introduction cell"
   ]
  },
  {
   "cell_type": "markdown",
   "id": "859cc200-729b-4675-8d6f-22445529fb49",
   "metadata": {},
   "source": [
    "Data Science Languages \n",
    "1. Python\n",
    "2. R\n",
    "3. SQL\n",
    "4. Julia"
   ]
  },
  {
   "cell_type": "markdown",
   "id": "d2bd3ce9-97e6-4d77-b5bc-66aeaabdd486",
   "metadata": {},
   "source": [
    "Data Science libraries\n",
    "1. Numpy\n",
    "2. Pandas\n",
    "3. Matplotlib\n",
    "4. scikit-learn"
   ]
  },
  {
   "cell_type": "markdown",
   "id": "fafe61fb-172f-4ac1-8736-637dd3249133",
   "metadata": {},
   "source": [
    "| Data Science Tools       |\n",
    "|--------------------------|\n",
    "| Jupyter Notebook         |\n",
    "| RStudio                  |\n",
    "| VS Code with Python      |"
   ]
  },
  {
   "cell_type": "markdown",
   "id": "63ce6f6e-3e13-477d-ba41-704b6288c464",
   "metadata": {},
   "source": [
    "Arithmetic expression examples:"
   ]
  },
  {
   "cell_type": "code",
   "execution_count": 4,
   "id": "677a3b32-a5f6-459e-8363-72b6a57ad64a",
   "metadata": {},
   "outputs": [
    {
     "data": {
      "text/plain": [
       "25"
      ]
     },
     "execution_count": 4,
     "metadata": {},
     "output_type": "execute_result"
    }
   ],
   "source": [
    "(2+3)*5"
   ]
  },
  {
   "cell_type": "code",
   "execution_count": 5,
   "id": "3db39d45-bcf0-4764-925d-8ff9f63f9667",
   "metadata": {},
   "outputs": [
    {
     "data": {
      "text/plain": [
       "2.0"
      ]
     },
     "execution_count": 5,
     "metadata": {},
     "output_type": "execute_result"
    }
   ],
   "source": [
    "#convert minutes to hours \n",
    "#converting 120mins into hours\n",
    "120/60"
   ]
  },
  {
   "cell_type": "markdown",
   "id": "7eeb81b3-ec9d-4da8-95cf-0e045faa4d4a",
   "metadata": {},
   "source": [
    "**Objectives:**\n",
    "- Heading with file name\n",
    "- Introduction cell\n",
    "- Data science Languages\n",
    "- Data science librabies\n",
    "- Data science tools\n",
    "- Arthematic expressions"
   ]
  },
  {
   "cell_type": "markdown",
   "id": "f94f4d84-abc4-4daa-952e-221a776be52c",
   "metadata": {},
   "source": [
    "## Author\n",
    "siva krishna"
   ]
  },
  {
   "cell_type": "code",
   "execution_count": null,
   "id": "2b080540-fbe0-4335-bea6-4a1f4f24e9e0",
   "metadata": {},
   "outputs": [],
   "source": []
  }
 ],
 "metadata": {
  "kernelspec": {
   "display_name": "Python 3 (ipykernel)",
   "language": "python",
   "name": "python3"
  },
  "language_info": {
   "codemirror_mode": {
    "name": "ipython",
    "version": 3
   },
   "file_extension": ".py",
   "mimetype": "text/x-python",
   "name": "python",
   "nbconvert_exporter": "python",
   "pygments_lexer": "ipython3",
   "version": "3.12.3"
  }
 },
 "nbformat": 4,
 "nbformat_minor": 5
}
